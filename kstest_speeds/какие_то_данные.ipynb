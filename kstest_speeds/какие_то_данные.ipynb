{
  "nbformat": 4,
  "nbformat_minor": 0,
  "metadata": {
    "colab": {
      "name": "какие-то_данные.ipynb",
      "provenance": []
    },
    "kernelspec": {
      "name": "python3",
      "display_name": "Python 3"
    },
    "language_info": {
      "name": "python"
    }
  },
  "cells": [
    {
      "cell_type": "code",
      "execution_count": 1,
      "metadata": {
        "id": "3KCt6dvFLnxs"
      },
      "outputs": [],
      "source": [
        "import pandas\n",
        "\n",
        "import matplotlib\n",
        "import numpy as np\n",
        "import matplotlib.pyplot as plt\n",
        "from scipy.stats import kstest, norm"
      ]
    },
    {
      "cell_type": "code",
      "source": [
        "# смотрим на все скорости в таблице\n",
        "df = pandas.read_csv('tram_speed_spb.csv')\n",
        "print(df['3'])"
      ],
      "metadata": {
        "colab": {
          "base_uri": "https://localhost:8080/"
        },
        "id": "hviXh28-B--b",
        "outputId": "ef75fa46-cd09-40c3-fbdc-0cfad38b3fab"
      },
      "execution_count": 12,
      "outputs": [
        {
          "output_type": "stream",
          "name": "stdout",
          "text": [
            "0        10.986572\n",
            "1         8.796223\n",
            "2         9.301585\n",
            "3         9.120068\n",
            "4         8.835476\n",
            "           ...    \n",
            "12174    12.206845\n",
            "12175    22.528797\n",
            "12176    21.214099\n",
            "12177    20.945856\n",
            "12178    20.468343\n",
            "Name: 3, Length: 12179, dtype: float64\n"
          ]
        }
      ]
    },
    {
      "cell_type": "code",
      "source": [
        "tram_speeds = df['3']\n",
        "\n",
        "tram_speeds.plot.kde();"
      ],
      "metadata": {
        "colab": {
          "base_uri": "https://localhost:8080/",
          "height": 266
        },
        "id": "7_5NWNRZKmzK",
        "outputId": "db843cb0-aa60-48e6-965f-d8b01f22a185"
      },
      "execution_count": 7,
      "outputs": [
        {
          "output_type": "display_data",
          "data": {
            "text/plain": [
              "<Figure size 432x288 with 1 Axes>"
            ],
            "image/png": "[encoded data removed]"
          },
          "metadata": {
            "needs_background": "light"
          }
        }
      ]
    },
    {
      "cell_type": "code",
      "source": [
        "# убираем плохие скорости...\n",
        "tram_speeds2 = []\n",
        "for x in tram_speeds:\n",
        "  if np.isfinite(x):\n",
        "    tram_speeds2.append(x)"
      ],
      "metadata": {
        "id": "3ban2mYnnzdW"
      },
      "execution_count": 8,
      "outputs": []
    },
    {
      "cell_type": "code",
      "source": [
        "# задаем своё нормальное распределение...\n",
        "loc, scale = norm.fit(tram_speeds2)\n",
        "\n",
        "n = norm(loc=loc, scale=scale)"
      ],
      "metadata": {
        "id": "Njj-yZz-g06K"
      },
      "execution_count": 9,
      "outputs": []
    },
    {
      "cell_type": "code",
      "source": [
        "print(kstest(tram_speeds2, n.cdf))"
      ],
      "metadata": {
        "colab": {
          "base_uri": "https://localhost:8080/"
        },
        "id": "c5foj7X1bjA3",
        "outputId": "ccacd30b-3e9b-43a9-fab3-6fb2378d69a9"
      },
      "execution_count": 10,
      "outputs": [
        {
          "output_type": "stream",
          "name": "stdout",
          "text": [
            "KstestResult(statistic=0.04342100601340826, pvalue=2.297872370711595e-20)\n"
          ]
        }
      ]
    }
  ]
}
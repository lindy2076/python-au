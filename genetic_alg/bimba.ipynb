{
  "nbformat": 4,
  "nbformat_minor": 0,
  "metadata": {
    "colab": {
      "name": "bimba.ipynb",
      "provenance": [],
      "collapsed_sections": []
    },
    "kernelspec": {
      "name": "python3",
      "display_name": "Python 3"
    },
    "language_info": {
      "name": "python"
    }
  },
  "cells": [
    {
      "cell_type": "code",
      "source": [
        "!pip install pygad"
      ],
      "metadata": {
        "id": "CrUbwrk4wl5p"
      },
      "execution_count": null,
      "outputs": []
    },
    {
      "cell_type": "code",
      "execution_count": 5,
      "metadata": {
        "id": "KKVUJf6gwXeG"
      },
      "outputs": [],
      "source": [
        "import pygad\n",
        "import numpy\n",
        "from numpy.linalg import norm\n",
        "import matplotlib.pyplot as plt\n",
        "import random\n",
        "from typing import List\n",
        "%matplotlib inline"
      ]
    },
    {
      "cell_type": "code",
      "source": [
        "POPULATION_SIZE = 100\n",
        "GENERATIONS_NUM = 1000"
      ],
      "metadata": {
        "id": "MynkmANgwcCU"
      },
      "execution_count": 220,
      "outputs": []
    },
    {
      "cell_type": "markdown",
      "source": [
        "ЛОР:\n",
        "Есть бомба, точнее 100 идентичных копий, которые взорвутся через 1000 минут. Также есть очень много сапёров, которые очень хотят обезвредить бомбу. Каждый сапёр стоит в одной из 100 очередей. В каждой очереди первый сапёр пытается обезвредить бомбу. У него есть 1 минута на решение. Это очень мало, поэтому все сапёры заранее написали на листке свою догадку. Каждый набирает комбинацию на бомбе и нажимает на кнопку проверки. Если решение верное, то все спасены и бомбы не взорвутся. Если решение неверное, то сапёр погибает от очень высокого напряжения на кнопке, которое никак нельзя удалить/защититься от него. Все последующие сапёры получают следующую информацию, на основании которой они корректируют своё решение: сумму баллов и решение предыдущего сапёра. Сумма баллов считается так: +2 за правильную кнопку в 1 модуле, +4 за правильный провод во втором, +1 за правильную нажатую кнопку в 3 модуле, -1 за неправильную нажатую и -0.5 за неправильные ненажатые кнопки. \n",
        "\n",
        "\n",
        "модули бомбы:\n",
        "1 модуль: 4 кнопки, надо нажать их по порядку\n",
        "\n",
        "2 модуль: 3 провода, надо перерезать один.\n",
        "\n",
        "3 модуль: 8 кнопок, надо какие-то кнопки нажать одновременно"
      ],
      "metadata": {
        "id": "EzsWiQbn2XQ_"
      }
    },
    {
      "cell_type": "code",
      "source": [
        "def create_gene():\n",
        "    Module1 = list(range(4))\n",
        "    Module2 = [random.randint(0, 3)]\n",
        "    Module3 = random.choices([0, 1], k=8)\n",
        "    random.shuffle(Module1)\n",
        "    gene = Module1 + Module2 + Module3\n",
        "    return gene"
      ],
      "metadata": {
        "id": "ziArU2sExq34"
      },
      "execution_count": 208,
      "outputs": []
    },
    {
      "cell_type": "code",
      "source": [
        "# создание бомбы и популяции сапёров\n",
        "random.seed(1)  # 81\n",
        "bomb = create_gene()\n",
        "init_pop = [numpy.array(create_gene()) for _ in range(POPULATION_SIZE)]\n",
        "print(bomb)"
      ],
      "metadata": {
        "colab": {
          "base_uri": "https://localhost:8080/"
        },
        "id": "4r02-_8y2DTU",
        "outputId": "0b30d3ce-a57c-49af-fca6-3339862908c0"
      },
      "execution_count": 221,
      "outputs": [
        {
          "output_type": "stream",
          "name": "stdout",
          "text": [
            "[2, 1, 0, 3, 1, 1, 1, 0, 0, 1, 0, 0, 0]\n"
          ]
        }
      ]
    },
    {
      "cell_type": "code",
      "source": [
        "def crossover_func(parents, offspring_size, ga_instance):\n",
        "    offspring = parents[0].copy() # копия мамы\n",
        "    offspring[4] = parents[1][4]  # от папы номер провода и порядок кнопок\n",
        "    offspring[0:4] = parents[1][0:4]\n",
        "    offspring[9:] = parents[1][9:]  # ну и немного нажатых\n",
        "    return offspring\n",
        "\n",
        "def mutation_func(offspring, ga_instance):\n",
        "    decision = random.randint(0, 3)\n",
        "    buttons_not_pressed = 8 - sum(offspring[5:])\n",
        "    if decision:  # отжимаем/ничего не делаем\n",
        "        offspring[random.randint(5, 5 + buttons_not_pressed)] = 0\n",
        "    elif buttons_not_pressed:  # нажимаем кнопку\n",
        "        offspring[random.randint(5, 5 + buttons_not_pressed)] = 1\n",
        "\n",
        "    if decision:  # меняем местами порядок нажатия\n",
        "        a, b = random.randint(0, 3), random.randint(0, 3)\n",
        "        offspring[a], offspring[b] = offspring[b], offspring[a]\n",
        "    \n",
        "    decision = random.randint(0, 5)\n",
        "    if decision == 3:  # режем другой провод\n",
        "        offspring[4] = random.randint(0, 3)\n",
        "    return offspring\n",
        "\n",
        "def fitness_func(solution, solution_idx):\n",
        "    result = 0\n",
        "    for i in range(4):\n",
        "        if solution[i] == bomb[i]:\n",
        "            result += 2\n",
        "        else:\n",
        "            break\n",
        "    for i in range(8):\n",
        "        if solution[5 + i] == bomb[5 + i]:\n",
        "            result += 1\n",
        "        elif solution[5 + i] != bomb[5 + i] and solution[5 + i] != 0:\n",
        "            result -= 1\n",
        "        else:\n",
        "            result -= 0.5\n",
        "\n",
        "    if solution[4] == bomb[4]:\n",
        "        result += 4\n",
        "    return result"
      ],
      "metadata": {
        "id": "eE4xZS-k5m0q"
      },
      "execution_count": 222,
      "outputs": []
    },
    {
      "cell_type": "code",
      "source": [
        "ga_instance = pygad.GA(\n",
        "    num_generations=GENERATIONS_NUM,\n",
        "    num_parents_mating=2,\n",
        "    sol_per_pop=POPULATION_SIZE,\n",
        "    gene_type=int,\n",
        "    initial_population=init_pop,\n",
        "    fitness_func=fitness_func,\n",
        "    crossover_type=crossover_func,\n",
        "    mutation_type=mutation_func\n",
        ")"
      ],
      "metadata": {
        "id": "C_qhVGmH_gCy"
      },
      "execution_count": 223,
      "outputs": []
    },
    {
      "cell_type": "code",
      "source": [
        "ga_instance.run()"
      ],
      "metadata": {
        "id": "OdmwWTH5_n_k"
      },
      "execution_count": 224,
      "outputs": []
    },
    {
      "cell_type": "code",
      "source": [
        "ga_instance.plot_fitness()\n",
        "\n",
        "solution, solution_fitness, solution_idx = ga_instance.best_solution(ga_instance.last_generation_fitness)\n",
        "\n",
        "if solution_fitness == 20:\n",
        "    print(\"Бомбу смогли обезвредить\")\n",
        "else:\n",
        "    print(\"Все умерли...\")\n",
        "\n",
        "print(\"Решение лучшего сапёра : {solution}\".format(solution=solution))\n",
        "print(\"Параметры бомбы: {bomb}\".format(bomb=bomb))\n",
        "print(\"Наибольшее количество баллов = {solution_fitness}\".format(solution_fitness=solution_fitness))"
      ],
      "metadata": {
        "colab": {
          "base_uri": "https://localhost:8080/",
          "height": 369
        },
        "id": "ZyfPRXZzGFES",
        "outputId": "277ca6de-7450-41ae-e8c8-02599d5c6277"
      },
      "execution_count": 227,
      "outputs": [
        {
          "output_type": "display_data",
          "data": {
            "text/plain": [
              "<Figure size 432x288 with 1 Axes>"
            ],
            "image/png": "[encoded data removed]"
          },
          "metadata": {
            "needs_background": "light"
          }
        },
        {
          "output_type": "stream",
          "name": "stdout",
          "text": [
            "Бомбу смогли обезвредить\n",
            "Решение лучшего сапёра : [2 1 0 3 1 1 1 0 0 1 0 0 0]\n",
            "Параметры бомбы: [2, 1, 0, 3, 1, 1, 1, 0, 0, 1, 0, 0, 0]\n",
            "Наибольшее количество баллов = 20.0\n"
          ]
        }
      ]
    },
    {
      "cell_type": "code",
      "source": [
        ""
      ],
      "metadata": {
        "id": "v2blflyIR7PC"
      },
      "execution_count": null,
      "outputs": []
    }
  ]
}